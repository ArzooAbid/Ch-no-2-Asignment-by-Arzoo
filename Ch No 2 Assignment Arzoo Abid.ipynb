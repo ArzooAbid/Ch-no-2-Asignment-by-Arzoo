{
 "cells": [
  {
   "cell_type": "code",
   "execution_count": 15,
   "metadata": {},
   "outputs": [
    {
     "name": "stdout",
     "output_type": "stream",
     "text": [
      "Hello i am Arzoo Abid\n"
     ]
    }
   ],
   "source": [
    "#2.1: Simple Msg\n",
    "Simple_Msg = \"Hello i am Arzoo Abid\"\n",
    "print(Simple_Msg)"
   ]
  },
  {
   "cell_type": "code",
   "execution_count": 16,
   "metadata": {},
   "outputs": [
    {
     "name": "stdout",
     "output_type": "stream",
     "text": [
      "I like to learn Coding.\n",
      "because i like programming!\n"
     ]
    }
   ],
   "source": [
    "#2.2:Message\n",
    "Msg = \"I like to learn Coding.\"\n",
    "print(Msg)\n",
    "\n",
    "Msg = \"because i like programming!\"\n",
    "print(Msg)"
   ]
  },
  {
   "cell_type": "code",
   "execution_count": 17,
   "metadata": {},
   "outputs": [
    {
     "name": "stdout",
     "output_type": "stream",
     "text": [
      "Hello Hassan Sir, i want to know about Mid exam pattern\n"
     ]
    }
   ],
   "source": [
    "# 2.3:personal Msg\n",
    "Sir = \"Hassan Sir,\"\n",
    "print(\"Hello \" + Sir + \" i want to know about Mid exam pattern\")\n"
   ]
  },
  {
   "cell_type": "code",
   "execution_count": 18,
   "metadata": {},
   "outputs": [
    {
     "name": "stdout",
     "output_type": "stream",
     "text": [
      "ARZOO ABID\n",
      "arzoo abid\n",
      "Arzoo Abid\n"
     ]
    }
   ],
   "source": [
    "# 2.4 Name Cases:\n",
    "\n",
    "Name = \"Arzoo Abid\"\n",
    "print(Name.upper())\n",
    "print(Name.lower())\n",
    "print(Name.title())\n"
   ]
  },
  {
   "cell_type": "code",
   "execution_count": 19,
   "metadata": {},
   "outputs": [
    {
     "name": "stdout",
     "output_type": "stream",
     "text": [
      "Whoever is happy will make others\n",
      "happy too\n"
     ]
    }
   ],
   "source": [
    "#2.5 Famous Quote 1:\n",
    "print('Whoever is happy will make others')\n",
    "print('happy too')"
   ]
  },
  {
   "cell_type": "code",
   "execution_count": 20,
   "metadata": {},
   "outputs": [
    {
     "name": "stdout",
     "output_type": "stream",
     "text": [
      "Helen keller Once said ,  Life is either a daring adventure or nothimg at all. \n"
     ]
    }
   ],
   "source": [
    "#2.6 Famous Quote 2:\n",
    "\n",
    "Famous_person = \"Helen keller\"\n",
    "Famous_quote = \" Life is either a daring adventure or nothimg at all. \"\n",
    "print(Famous_person + \" Once said , \" + Famous_quote)"
   ]
  },
  {
   "cell_type": "code",
   "execution_count": 21,
   "metadata": {},
   "outputs": [
    {
     "name": "stdout",
     "output_type": "stream",
     "text": [
      "Unmodified:\n",
      "\tArzoo abid\n",
      "\n",
      "\n",
      "Using lstrip():\n",
      "Arzoo abid\n",
      "\n",
      "\n",
      "Using rstrip():\n",
      "\tArzoo abid\n",
      "\n",
      "Using strip():\n",
      "Arzoo abid\n"
     ]
    }
   ],
   "source": [
    "#2.7 Stripping Names:\n",
    "name = \"\\tArzoo abid\\n\"\n",
    "\n",
    "print(\"Unmodified:\")\n",
    "print(name)\n",
    "\n",
    "print(\"\\nUsing lstrip():\")\n",
    "print(name.lstrip())\n",
    "\n",
    "print(\"\\nUsing rstrip():\")\n",
    "print(name.rstrip())\n",
    "\n",
    "print(\"\\nUsing strip():\")\n",
    "print(name.strip())"
   ]
  },
  {
   "cell_type": "code",
   "execution_count": 22,
   "metadata": {},
   "outputs": [
    {
     "name": "stdout",
     "output_type": "stream",
     "text": [
      "8\n",
      "6\n",
      "4\n",
      "10.0\n"
     ]
    }
   ],
   "source": [
    "#2.8 NUMBER :\n",
    "print(5+3)\n",
    "print(8-2)\n",
    "print(2*2)\n",
    "print(20/2)"
   ]
  },
  {
   "cell_type": "code",
   "execution_count": 23,
   "metadata": {},
   "outputs": [
    {
     "name": "stdout",
     "output_type": "stream",
     "text": [
      "My favorite number is 15.\n"
     ]
    }
   ],
   "source": [
    "#2.9 Favourite Number:\n",
    "fav_num = 15\n",
    "msg = f\"My favorite number is {fav_num}.\"\n",
    "\n",
    "print(msg)"
   ]
  },
  {
   "cell_type": "code",
   "execution_count": 24,
   "metadata": {},
   "outputs": [
    {
     "name": "stdout",
     "output_type": "stream",
     "text": [
      "7\n",
      "6\n",
      "4\n",
      "10.0\n",
      "My favorite number is 15\n"
     ]
    }
   ],
   "source": [
    "# 2.10 Adding Commens with all:\n",
    "\n",
    "print(5+2)      # addition\n",
    "print(8-2)      # subtraction\n",
    "print(2*2)      # multiplication\n",
    "print(20/2)     # division\n",
    "\n",
    "favorite_number = 15\n",
    "print(\"My favorite number is \" + str(favorite_number))\n",
    "# in the above line I take an integer into a string ."
   ]
  },
  {
   "cell_type": "code",
   "execution_count": 26,
   "metadata": {},
   "outputs": [],
   "source": [
    "# 2-11 Zen of Python:\n",
    "\n",
    "import this"
   ]
  }
 ],
 "metadata": {
  "interpreter": {
   "hash": "a9cff5a362bc38ef45d817ae74b1af54d6a076e3d773891282bce078b815ba34"
  },
  "kernelspec": {
   "display_name": "Python 3.10.4 64-bit",
   "language": "python",
   "name": "python3"
  },
  "language_info": {
   "codemirror_mode": {
    "name": "ipython",
    "version": 3
   },
   "file_extension": ".py",
   "mimetype": "text/x-python",
   "name": "python",
   "nbconvert_exporter": "python",
   "pygments_lexer": "ipython3",
   "version": "3.10.4"
  },
  "orig_nbformat": 4
 },
 "nbformat": 4,
 "nbformat_minor": 2
}
